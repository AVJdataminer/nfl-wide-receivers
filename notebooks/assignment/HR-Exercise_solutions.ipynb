{
 "cells": [
  {
   "cell_type": "markdown",
   "metadata": {},
   "source": [
    "# HR Dataset - Statistics Review"
   ]
  },
  {
   "cell_type": "markdown",
   "metadata": {},
   "source": [
    "## Explore the data\n",
    "\n",
    "The data set we will use for this exercise comes from a Kaggle challenge and is often used for predictive analytics, namely to predict why the best and most experienced employees tend to leave the company.  We won't be using it for any predictive purposes here, but will instead use this data set to review many of the concepts explored in the Statistical Inference text.\n",
    "\n",
    "This data contains fields for various measures of employee performance and reported satisfaction levels, as well as some categorical variables for events and salary level.  For now, just explore the data a bit to get a general idea of what is going on."
   ]
  },
  {
   "cell_type": "code",
   "execution_count": 1,
   "metadata": {
    "collapsed": false
   },
   "outputs": [],
   "source": [
    "import pandas as pd\n",
    "\n",
    "HR_data = pd.read_csv('HR_comma_sep.csv')"
   ]
  },
  {
   "cell_type": "code",
   "execution_count": 33,
   "metadata": {
    "collapsed": false
   },
   "outputs": [
    {
     "name": "stdout",
     "output_type": "stream",
     "text": [
      "(14999, 10)\n",
      "satisfaction_level       float64\n",
      "last_evaluation          float64\n",
      "number_project             int64\n",
      "average_montly_hours       int64\n",
      "time_spend_company         int64\n",
      "Work_accident              int64\n",
      "left                       int64\n",
      "promotion_last_5years      int64\n",
      "sales                     object\n",
      "salary                    object\n",
      "dtype: object\n"
     ]
    },
    {
     "data": {
      "text/html": [
       "<div>\n",
       "<table border=\"1\" class=\"dataframe\">\n",
       "  <thead>\n",
       "    <tr style=\"text-align: right;\">\n",
       "      <th></th>\n",
       "      <th>satisfaction_level</th>\n",
       "      <th>last_evaluation</th>\n",
       "      <th>number_project</th>\n",
       "      <th>average_montly_hours</th>\n",
       "      <th>time_spend_company</th>\n",
       "      <th>Work_accident</th>\n",
       "      <th>left</th>\n",
       "      <th>promotion_last_5years</th>\n",
       "      <th>sales</th>\n",
       "      <th>salary</th>\n",
       "    </tr>\n",
       "  </thead>\n",
       "  <tbody>\n",
       "    <tr>\n",
       "      <th>0</th>\n",
       "      <td>0.38</td>\n",
       "      <td>0.53</td>\n",
       "      <td>2</td>\n",
       "      <td>157</td>\n",
       "      <td>3</td>\n",
       "      <td>0</td>\n",
       "      <td>1</td>\n",
       "      <td>0</td>\n",
       "      <td>sales</td>\n",
       "      <td>low</td>\n",
       "    </tr>\n",
       "    <tr>\n",
       "      <th>1</th>\n",
       "      <td>0.80</td>\n",
       "      <td>0.86</td>\n",
       "      <td>5</td>\n",
       "      <td>262</td>\n",
       "      <td>6</td>\n",
       "      <td>0</td>\n",
       "      <td>1</td>\n",
       "      <td>0</td>\n",
       "      <td>sales</td>\n",
       "      <td>medium</td>\n",
       "    </tr>\n",
       "    <tr>\n",
       "      <th>2</th>\n",
       "      <td>0.11</td>\n",
       "      <td>0.88</td>\n",
       "      <td>7</td>\n",
       "      <td>272</td>\n",
       "      <td>4</td>\n",
       "      <td>0</td>\n",
       "      <td>1</td>\n",
       "      <td>0</td>\n",
       "      <td>sales</td>\n",
       "      <td>medium</td>\n",
       "    </tr>\n",
       "    <tr>\n",
       "      <th>3</th>\n",
       "      <td>0.72</td>\n",
       "      <td>0.87</td>\n",
       "      <td>5</td>\n",
       "      <td>223</td>\n",
       "      <td>5</td>\n",
       "      <td>0</td>\n",
       "      <td>1</td>\n",
       "      <td>0</td>\n",
       "      <td>sales</td>\n",
       "      <td>low</td>\n",
       "    </tr>\n",
       "    <tr>\n",
       "      <th>4</th>\n",
       "      <td>0.37</td>\n",
       "      <td>0.52</td>\n",
       "      <td>2</td>\n",
       "      <td>159</td>\n",
       "      <td>3</td>\n",
       "      <td>0</td>\n",
       "      <td>1</td>\n",
       "      <td>0</td>\n",
       "      <td>sales</td>\n",
       "      <td>low</td>\n",
       "    </tr>\n",
       "  </tbody>\n",
       "</table>\n",
       "</div>"
      ],
      "text/plain": [
       "   satisfaction_level  last_evaluation  number_project  average_montly_hours  \\\n",
       "0                0.38             0.53               2                   157   \n",
       "1                0.80             0.86               5                   262   \n",
       "2                0.11             0.88               7                   272   \n",
       "3                0.72             0.87               5                   223   \n",
       "4                0.37             0.52               2                   159   \n",
       "\n",
       "   time_spend_company  Work_accident  left  promotion_last_5years  sales  \\\n",
       "0                   3              0     1                      0  sales   \n",
       "1                   6              0     1                      0  sales   \n",
       "2                   4              0     1                      0  sales   \n",
       "3                   5              0     1                      0  sales   \n",
       "4                   3              0     1                      0  sales   \n",
       "\n",
       "   salary  \n",
       "0     low  \n",
       "1  medium  \n",
       "2  medium  \n",
       "3     low  \n",
       "4     low  "
      ]
     },
     "execution_count": 33,
     "metadata": {},
     "output_type": "execute_result"
    }
   ],
   "source": [
    "print(HR_data.shape)\n",
    "print(HR_data.dtypes)\n",
    "HR_data.head()"
   ]
  },
  {
   "cell_type": "code",
   "execution_count": 3,
   "metadata": {
    "collapsed": false
   },
   "outputs": [
    {
     "data": {
      "text/html": [
       "<div>\n",
       "<style>\n",
       "    .dataframe thead tr:only-child th {\n",
       "        text-align: right;\n",
       "    }\n",
       "\n",
       "    .dataframe thead th {\n",
       "        text-align: left;\n",
       "    }\n",
       "\n",
       "    .dataframe tbody tr th {\n",
       "        vertical-align: top;\n",
       "    }\n",
       "</style>\n",
       "<table border=\"1\" class=\"dataframe\">\n",
       "  <thead>\n",
       "    <tr style=\"text-align: right;\">\n",
       "      <th></th>\n",
       "      <th>satisfaction_level</th>\n",
       "      <th>last_evaluation</th>\n",
       "      <th>number_project</th>\n",
       "      <th>average_montly_hours</th>\n",
       "      <th>time_spend_company</th>\n",
       "      <th>Work_accident</th>\n",
       "      <th>left</th>\n",
       "      <th>promotion_last_5years</th>\n",
       "    </tr>\n",
       "  </thead>\n",
       "  <tbody>\n",
       "    <tr>\n",
       "      <th>count</th>\n",
       "      <td>14999.000000</td>\n",
       "      <td>14999.000000</td>\n",
       "      <td>14999.000000</td>\n",
       "      <td>14999.000000</td>\n",
       "      <td>14999.000000</td>\n",
       "      <td>14999.000000</td>\n",
       "      <td>14999.000000</td>\n",
       "      <td>14999.000000</td>\n",
       "    </tr>\n",
       "    <tr>\n",
       "      <th>mean</th>\n",
       "      <td>0.612834</td>\n",
       "      <td>0.716102</td>\n",
       "      <td>3.803054</td>\n",
       "      <td>201.050337</td>\n",
       "      <td>3.498233</td>\n",
       "      <td>0.144610</td>\n",
       "      <td>0.238083</td>\n",
       "      <td>0.021268</td>\n",
       "    </tr>\n",
       "    <tr>\n",
       "      <th>std</th>\n",
       "      <td>0.248631</td>\n",
       "      <td>0.171169</td>\n",
       "      <td>1.232592</td>\n",
       "      <td>49.943099</td>\n",
       "      <td>1.460136</td>\n",
       "      <td>0.351719</td>\n",
       "      <td>0.425924</td>\n",
       "      <td>0.144281</td>\n",
       "    </tr>\n",
       "    <tr>\n",
       "      <th>min</th>\n",
       "      <td>0.090000</td>\n",
       "      <td>0.360000</td>\n",
       "      <td>2.000000</td>\n",
       "      <td>96.000000</td>\n",
       "      <td>2.000000</td>\n",
       "      <td>0.000000</td>\n",
       "      <td>0.000000</td>\n",
       "      <td>0.000000</td>\n",
       "    </tr>\n",
       "    <tr>\n",
       "      <th>25%</th>\n",
       "      <td>0.440000</td>\n",
       "      <td>0.560000</td>\n",
       "      <td>3.000000</td>\n",
       "      <td>156.000000</td>\n",
       "      <td>3.000000</td>\n",
       "      <td>0.000000</td>\n",
       "      <td>0.000000</td>\n",
       "      <td>0.000000</td>\n",
       "    </tr>\n",
       "    <tr>\n",
       "      <th>50%</th>\n",
       "      <td>0.640000</td>\n",
       "      <td>0.720000</td>\n",
       "      <td>4.000000</td>\n",
       "      <td>200.000000</td>\n",
       "      <td>3.000000</td>\n",
       "      <td>0.000000</td>\n",
       "      <td>0.000000</td>\n",
       "      <td>0.000000</td>\n",
       "    </tr>\n",
       "    <tr>\n",
       "      <th>75%</th>\n",
       "      <td>0.820000</td>\n",
       "      <td>0.870000</td>\n",
       "      <td>5.000000</td>\n",
       "      <td>245.000000</td>\n",
       "      <td>4.000000</td>\n",
       "      <td>0.000000</td>\n",
       "      <td>0.000000</td>\n",
       "      <td>0.000000</td>\n",
       "    </tr>\n",
       "    <tr>\n",
       "      <th>max</th>\n",
       "      <td>1.000000</td>\n",
       "      <td>1.000000</td>\n",
       "      <td>7.000000</td>\n",
       "      <td>310.000000</td>\n",
       "      <td>10.000000</td>\n",
       "      <td>1.000000</td>\n",
       "      <td>1.000000</td>\n",
       "      <td>1.000000</td>\n",
       "    </tr>\n",
       "  </tbody>\n",
       "</table>\n",
       "</div>"
      ],
      "text/plain": [
       "       satisfaction_level  last_evaluation  number_project  \\\n",
       "count        14999.000000     14999.000000    14999.000000   \n",
       "mean             0.612834         0.716102        3.803054   \n",
       "std              0.248631         0.171169        1.232592   \n",
       "min              0.090000         0.360000        2.000000   \n",
       "25%              0.440000         0.560000        3.000000   \n",
       "50%              0.640000         0.720000        4.000000   \n",
       "75%              0.820000         0.870000        5.000000   \n",
       "max              1.000000         1.000000        7.000000   \n",
       "\n",
       "       average_montly_hours  time_spend_company  Work_accident          left  \\\n",
       "count          14999.000000        14999.000000   14999.000000  14999.000000   \n",
       "mean             201.050337            3.498233       0.144610      0.238083   \n",
       "std               49.943099            1.460136       0.351719      0.425924   \n",
       "min               96.000000            2.000000       0.000000      0.000000   \n",
       "25%              156.000000            3.000000       0.000000      0.000000   \n",
       "50%              200.000000            3.000000       0.000000      0.000000   \n",
       "75%              245.000000            4.000000       0.000000      0.000000   \n",
       "max              310.000000           10.000000       1.000000      1.000000   \n",
       "\n",
       "       promotion_last_5years  \n",
       "count           14999.000000  \n",
       "mean                0.021268  \n",
       "std                 0.144281  \n",
       "min                 0.000000  \n",
       "25%                 0.000000  \n",
       "50%                 0.000000  \n",
       "75%                 0.000000  \n",
       "max                 1.000000  "
      ]
     },
     "execution_count": 3,
     "metadata": {},
     "output_type": "execute_result"
    }
   ],
   "source": [
    "HR_data.describe()"
   ]
  },
  {
   "cell_type": "code",
   "execution_count": 5,
   "metadata": {
    "collapsed": false
   },
   "outputs": [
    {
     "data": {
      "text/html": [
       "<div>\n",
       "<style>\n",
       "    .dataframe thead tr:only-child th {\n",
       "        text-align: right;\n",
       "    }\n",
       "\n",
       "    .dataframe thead th {\n",
       "        text-align: left;\n",
       "    }\n",
       "\n",
       "    .dataframe tbody tr th {\n",
       "        vertical-align: top;\n",
       "    }\n",
       "</style>\n",
       "<table border=\"1\" class=\"dataframe\">\n",
       "  <thead>\n",
       "    <tr style=\"text-align: right;\">\n",
       "      <th></th>\n",
       "      <th>satisfaction_level</th>\n",
       "      <th>last_evaluation</th>\n",
       "      <th>number_project</th>\n",
       "      <th>average_monthly_hours</th>\n",
       "      <th>time_spend_company</th>\n",
       "      <th>work_accident</th>\n",
       "      <th>left</th>\n",
       "      <th>promotion_last_5years</th>\n",
       "      <th>sales</th>\n",
       "      <th>salary</th>\n",
       "    </tr>\n",
       "  </thead>\n",
       "  <tbody>\n",
       "    <tr>\n",
       "      <th>0</th>\n",
       "      <td>0.38</td>\n",
       "      <td>0.53</td>\n",
       "      <td>2</td>\n",
       "      <td>157</td>\n",
       "      <td>3</td>\n",
       "      <td>0</td>\n",
       "      <td>1</td>\n",
       "      <td>0</td>\n",
       "      <td>sales</td>\n",
       "      <td>low</td>\n",
       "    </tr>\n",
       "    <tr>\n",
       "      <th>1</th>\n",
       "      <td>0.80</td>\n",
       "      <td>0.86</td>\n",
       "      <td>5</td>\n",
       "      <td>262</td>\n",
       "      <td>6</td>\n",
       "      <td>0</td>\n",
       "      <td>1</td>\n",
       "      <td>0</td>\n",
       "      <td>sales</td>\n",
       "      <td>medium</td>\n",
       "    </tr>\n",
       "    <tr>\n",
       "      <th>2</th>\n",
       "      <td>0.11</td>\n",
       "      <td>0.88</td>\n",
       "      <td>7</td>\n",
       "      <td>272</td>\n",
       "      <td>4</td>\n",
       "      <td>0</td>\n",
       "      <td>1</td>\n",
       "      <td>0</td>\n",
       "      <td>sales</td>\n",
       "      <td>medium</td>\n",
       "    </tr>\n",
       "    <tr>\n",
       "      <th>3</th>\n",
       "      <td>0.72</td>\n",
       "      <td>0.87</td>\n",
       "      <td>5</td>\n",
       "      <td>223</td>\n",
       "      <td>5</td>\n",
       "      <td>0</td>\n",
       "      <td>1</td>\n",
       "      <td>0</td>\n",
       "      <td>sales</td>\n",
       "      <td>low</td>\n",
       "    </tr>\n",
       "    <tr>\n",
       "      <th>4</th>\n",
       "      <td>0.37</td>\n",
       "      <td>0.52</td>\n",
       "      <td>2</td>\n",
       "      <td>159</td>\n",
       "      <td>3</td>\n",
       "      <td>0</td>\n",
       "      <td>1</td>\n",
       "      <td>0</td>\n",
       "      <td>sales</td>\n",
       "      <td>low</td>\n",
       "    </tr>\n",
       "  </tbody>\n",
       "</table>\n",
       "</div>"
      ],
      "text/plain": [
       "   satisfaction_level  last_evaluation  number_project  average_monthly_hours  \\\n",
       "0                0.38             0.53               2                    157   \n",
       "1                0.80             0.86               5                    262   \n",
       "2                0.11             0.88               7                    272   \n",
       "3                0.72             0.87               5                    223   \n",
       "4                0.37             0.52               2                    159   \n",
       "\n",
       "   time_spend_company  work_accident  left  promotion_last_5years  sales  \\\n",
       "0                   3              0     1                      0  sales   \n",
       "1                   6              0     1                      0  sales   \n",
       "2                   4              0     1                      0  sales   \n",
       "3                   5              0     1                      0  sales   \n",
       "4                   3              0     1                      0  sales   \n",
       "\n",
       "   salary  \n",
       "0     low  \n",
       "1  medium  \n",
       "2  medium  \n",
       "3     low  \n",
       "4     low  "
      ]
     },
     "execution_count": 5,
     "metadata": {},
     "output_type": "execute_result"
    }
   ],
   "source": [
    "# correct typo in one column and convert another to lower case\n",
    "HR_data.rename(columns={list(HR_data)[3]:'average_monthly_hours',\n",
    "                        list(HR_data)[5]:'work_accident'}, inplace=True)\n",
    "HR_data.head()"
   ]
  },
  {
   "cell_type": "markdown",
   "metadata": {},
   "source": [
    "## Probability, Expectation Values, and Variance\n",
    "\n",
    "The concepts of probability, expectation values, and variance are the bedrock of statistical inference.  Let's begin by employing some of these concepts to see if we can find some interesting paths to go down which may provide some insight into the inner workings of this company.\n",
    "\n",
    "1. What is the probability that a randomly selected employee left the company?  What about experienced a work accident?  Also compute the probability that a randomly selected employee left the company and experienced a work accident.\n",
    "2. Compute the 25th, 50th, and 90th percentiles for the satisfaction level score for all employees that left the company.  Compare these results to the same percentiles for those that did not leave.  What can you say about the results?\n",
    "3. Compute the variance and standard deviation of hours worked.\n",
    "4. Compare the variance between the satisfaction levels of employees who left versus those who stayed.  Which is larger?  What does this mean?\n",
    "5. Compute the mean satisfaction level for each salary category.  Comment on your results.\n",
    "6. Given an employees salary level (low, medium, or high), calculate the probability that they worked more than two standard deviations of the average monthly hours across all groups.  In other words, compute\n",
    "$$P(hours > 2\\sigma \\vert salary ) = \\dfrac{P(salary \\vert hours > 2\\sigma) P(hours > 2\\sigma)}{P(salary)}$$\n",
    "7. What can you say about your results in part 6?\n",
    "8. Repeat parts 6 and 7 for \n",
    "$$P(left \\vert salary ) = \\dfrac{P(salary \\vert left) P(left)}{P(salary)}$$\n",
    "9. What is the odds ratio of an employee with a high salary getting a promotion within the past five years versus a low salary employee?  Comment on your results.\n",
    "10. Suppose we were to pull a random sample of size 50 of employee satisfaction levels.  What would approximately be the mean of this sample?  What would be the mean of, say, 10 sets of random samples?  Demonstrate your assertions by writing some python code to do just that.\n"
   ]
  },
  {
   "cell_type": "markdown",
   "metadata": {},
   "source": [
    "#### 1. What is the probability that a randomly selected employee left the company?  What about experienced a work accident?  Also compute the probability that a randomly selected employee left the company and experienced a work accident."
   ]
  },
  {
   "cell_type": "code",
   "execution_count": 7,
   "metadata": {
    "collapsed": false
   },
   "outputs": [
    {
     "data": {
      "text/plain": [
       "0.2380825388359224"
      ]
     },
     "execution_count": 7,
     "metadata": {},
     "output_type": "execute_result"
    }
   ],
   "source": [
    "# total number of data points (records in the data)\n",
    "N = len(HR_data)\n",
    "# proportion of employees who left the company (the probability of someone leaving)\n",
    "len(HR_data[HR_data.left == 1]) / N"
   ]
  },
  {
   "cell_type": "code",
   "execution_count": 8,
   "metadata": {
    "collapsed": false
   },
   "outputs": [
    {
     "data": {
      "text/plain": [
       "0.1446096406427095"
      ]
     },
     "execution_count": 8,
     "metadata": {},
     "output_type": "execute_result"
    }
   ],
   "source": [
    "len(HR_data[HR_data.work_accident == 1]) / N"
   ]
  },
  {
   "cell_type": "code",
   "execution_count": 9,
   "metadata": {
    "collapsed": false
   },
   "outputs": [
    {
     "data": {
      "text/plain": [
       "0.01126741782785519"
      ]
     },
     "execution_count": 9,
     "metadata": {},
     "output_type": "execute_result"
    }
   ],
   "source": [
    "len(HR_data[(HR_data.left == 1) & (HR_data.work_accident == 1)]) / N"
   ]
  },
  {
   "cell_type": "markdown",
   "metadata": {},
   "source": [
    "#### 2. Compute the 25th, 50th, and 90th percentiles for the satisfaction level score for all employees that left the company.  Compare these results to the same percentiles for those that did not leave.  What can you say about the results?"
   ]
  },
  {
   "cell_type": "code",
   "execution_count": 9,
   "metadata": {
    "collapsed": false
   },
   "outputs": [
    {
     "name": "stdout",
     "output_type": "stream",
     "text": [
      "0.13 0.41 0.84\n",
      "0.54 0.69 0.94\n"
     ]
    }
   ],
   "source": [
    "# Part 2\n",
    "import numpy as np\n",
    "print(np.percentile(HR_data[HR_data.left == 1].satisfaction_level, 25),\n",
    "      np.percentile(HR_data[HR_data.left == 1].satisfaction_level, 50),\n",
    "      np.percentile(HR_data[HR_data.left == 1].satisfaction_level, 90))\n",
    "\n",
    "print(np.percentile(HR_data[HR_data.left == 0].satisfaction_level, 25),\n",
    "      np.percentile(HR_data[HR_data.left == 0].satisfaction_level, 50),\n",
    "      np.percentile(HR_data[HR_data.left == 0].satisfaction_level, 90))"
   ]
  },
  {
   "cell_type": "markdown",
   "metadata": {},
   "source": [
    "**Alternatives**"
   ]
  },
  {
   "cell_type": "code",
   "execution_count": 19,
   "metadata": {
    "collapsed": false
   },
   "outputs": [
    {
     "name": "stdout",
     "output_type": "stream",
     "text": [
      "[ 0.13  0.41  0.84]\n",
      "[ 0.54  0.69  0.94]\n"
     ]
    }
   ],
   "source": [
    "import numpy as np\n",
    "# filter data according to 'left' and use list of percentiles in numpy.percentile function\n",
    "print(np.percentile(HR_data[HR_data.left == 1].satisfaction_level, [25, 50, 90]))\n",
    "print(np.percentile(HR_data[HR_data.left == 0].satisfaction_level, [25, 50, 90]))"
   ]
  },
  {
   "cell_type": "code",
   "execution_count": 33,
   "metadata": {
    "collapsed": false
   },
   "outputs": [
    {
     "data": {
      "text/html": [
       "<div>\n",
       "<style>\n",
       "    .dataframe thead tr:only-child th {\n",
       "        text-align: right;\n",
       "    }\n",
       "\n",
       "    .dataframe thead th {\n",
       "        text-align: left;\n",
       "    }\n",
       "\n",
       "    .dataframe tbody tr th {\n",
       "        vertical-align: top;\n",
       "    }\n",
       "</style>\n",
       "<table border=\"1\" class=\"dataframe\">\n",
       "  <thead>\n",
       "    <tr style=\"text-align: right;\">\n",
       "      <th></th>\n",
       "      <th>0.25</th>\n",
       "      <th>0.5</th>\n",
       "      <th>0.9</th>\n",
       "    </tr>\n",
       "    <tr>\n",
       "      <th>left</th>\n",
       "      <th></th>\n",
       "      <th></th>\n",
       "      <th></th>\n",
       "    </tr>\n",
       "  </thead>\n",
       "  <tbody>\n",
       "    <tr>\n",
       "      <th>0</th>\n",
       "      <td>0.54</td>\n",
       "      <td>0.69</td>\n",
       "      <td>0.94</td>\n",
       "    </tr>\n",
       "    <tr>\n",
       "      <th>1</th>\n",
       "      <td>0.13</td>\n",
       "      <td>0.41</td>\n",
       "      <td>0.84</td>\n",
       "    </tr>\n",
       "  </tbody>\n",
       "</table>\n",
       "</div>"
      ],
      "text/plain": [
       "      0.25  0.50  0.90\n",
       "left                  \n",
       "0     0.54  0.69  0.94\n",
       "1     0.13  0.41  0.84"
      ]
     },
     "execution_count": 33,
     "metadata": {},
     "output_type": "execute_result"
    }
   ],
   "source": [
    "from pandas import Series\n",
    "# use pandas groupby with the `quantile` agg function\n",
    "HR_data.groupby('left').satisfaction_level.quantile([0.25, 0.5, 0.9]).unstack()"
   ]
  },
  {
   "cell_type": "markdown",
   "metadata": {},
   "source": [
    "**End Alternatives**"
   ]
  },
  {
   "cell_type": "markdown",
   "metadata": {},
   "source": [
    "It would seem that the employees that left the company tended to also report a lower satisfaction level.  However to further investigate this result, we will have to perform some more sophisticated tests."
   ]
  },
  {
   "cell_type": "markdown",
   "metadata": {},
   "source": [
    "#### 3. Compute the variance and standard deviation of hours worked."
   ]
  },
  {
   "cell_type": "code",
   "execution_count": 10,
   "metadata": {
    "collapsed": false
   },
   "outputs": [
    {
     "data": {
      "text/plain": [
       "(2494.313174809979, 49.943099371284305)"
      ]
     },
     "execution_count": 10,
     "metadata": {},
     "output_type": "execute_result"
    }
   ],
   "source": [
    "# variance and standard devation of monthly hours worked\n",
    "(HR_data.average_monthly_hours.var(), HR_data.average_monthly_hours.std())"
   ]
  },
  {
   "cell_type": "markdown",
   "metadata": {},
   "source": [
    "**Alternative**"
   ]
  },
  {
   "cell_type": "code",
   "execution_count": 37,
   "metadata": {
    "collapsed": false
   },
   "outputs": [
    {
     "data": {
      "text/plain": [
       "var    2494.313175\n",
       "std      49.943099\n",
       "Name: average_monthly_hours, dtype: float64"
      ]
     },
     "execution_count": 37,
     "metadata": {},
     "output_type": "execute_result"
    }
   ],
   "source": [
    "# use pandas `agg` method to get both var and std in one call\n",
    "HR_data.average_monthly_hours.agg(['var','std'])"
   ]
  },
  {
   "cell_type": "markdown",
   "metadata": {},
   "source": [
    "**End Alternative**"
   ]
  },
  {
   "cell_type": "markdown",
   "metadata": {},
   "source": [
    "#### 4. Compare the variance between the satisfaction levels of employees who left versus those who stayed.  Which is larger?  What does this mean?"
   ]
  },
  {
   "cell_type": "code",
   "execution_count": 34,
   "metadata": {
    "collapsed": false
   },
   "outputs": [
    {
     "data": {
      "text/plain": [
       "(0.04713404022655909, 0.06966085873834325)"
      ]
     },
     "execution_count": 34,
     "metadata": {},
     "output_type": "execute_result"
    }
   ],
   "source": [
    "# Variance of satisfaction level of left vs. not left\n",
    "(HR_data[HR_data.left == 0].satisfaction_level.var(), HR_data[HR_data.left == 1].satisfaction_level.var())"
   ]
  },
  {
   "cell_type": "markdown",
   "metadata": {},
   "source": [
    "**Alternative**"
   ]
  },
  {
   "cell_type": "code",
   "execution_count": 35,
   "metadata": {
    "collapsed": false
   },
   "outputs": [
    {
     "data": {
      "text/plain": [
       "left\n",
       "0    0.047134\n",
       "1    0.069661\n",
       "Name: satisfaction_level, dtype: float64"
      ]
     },
     "execution_count": 35,
     "metadata": {},
     "output_type": "execute_result"
    }
   ],
   "source": [
    "# Variance of satisfaction level of left vs. not left\n",
    "HR_data.groupby('left').satisfaction_level.var()"
   ]
  },
  {
   "cell_type": "markdown",
   "metadata": {},
   "source": [
    "**End Alternative**"
   ]
  },
  {
   "cell_type": "markdown",
   "metadata": {},
   "source": [
    "The employees who left seem to have a larger range of satisfaction levels than those who stayed.  To make further inferences from this however, require techniques to come in later exercises."
   ]
  },
  {
   "cell_type": "markdown",
   "metadata": {},
   "source": [
    "#### 5. Compute the mean satisfaction level for each salary category.  Comment on your results."
   ]
  },
  {
   "cell_type": "code",
   "execution_count": 38,
   "metadata": {
    "collapsed": false
   },
   "outputs": [
    {
     "data": {
      "text/plain": [
       "{'high': 0.6374696847211003,\n",
       " 'low': 0.6007531437944199,\n",
       " 'medium': 0.6218166304685063}"
      ]
     },
     "execution_count": 38,
     "metadata": {},
     "output_type": "execute_result"
    }
   ],
   "source": [
    "# create empty dict\n",
    "means = {}\n",
    "# iterate over unique salary categories and \n",
    "# fill the dict with key:value pairs that are {salary category: mean satisfaction level}\n",
    "for sal in HR_data.salary.unique():\n",
    "    means[sal] = HR_data[HR_data.salary == sal].satisfaction_level.mean()\n",
    "# show results\n",
    "means"
   ]
  },
  {
   "cell_type": "markdown",
   "metadata": {},
   "source": [
    "**Alternative**"
   ]
  },
  {
   "cell_type": "code",
   "execution_count": 40,
   "metadata": {
    "collapsed": false
   },
   "outputs": [
    {
     "data": {
      "text/plain": [
       "salary\n",
       "high      0.637470\n",
       "low       0.600753\n",
       "medium    0.621817\n",
       "Name: satisfaction_level, dtype: float64"
      ]
     },
     "execution_count": 40,
     "metadata": {},
     "output_type": "execute_result"
    }
   ],
   "source": [
    "# use pandas groupby to get mean salary for each salary category\n",
    "HR_data.groupby('salary').satisfaction_level.mean()"
   ]
  },
  {
   "cell_type": "markdown",
   "metadata": {},
   "source": [
    "**End Alternative**"
   ]
  },
  {
   "cell_type": "markdown",
   "metadata": {},
   "source": [
    "The highly and medium paid employees tend to have similar levels of work satisfaction while the lowest paid are a bit lower."
   ]
  },
  {
   "cell_type": "markdown",
   "metadata": {},
   "source": [
    "#### 6. Given an employees salary level (low, medium, or high), calculate the probability that they worked more than two standard deviations of the average monthly hours across all groups.  In other words, compute\n",
    "$$P(hours > 2\\sigma \\vert salary ) = \\dfrac{P(salary \\vert hours > 2\\sigma) P(hours > 2\\sigma)}{P(salary)}$$"
   ]
  },
  {
   "cell_type": "code",
   "execution_count": 41,
   "metadata": {
    "collapsed": false
   },
   "outputs": [],
   "source": [
    "# First compute the mean and stdev\n",
    "hours_mean = HR_data['average_monthly_hours'].mean()\n",
    "hours_stdev = HR_data['average_monthly_hours'].std()\n",
    "# mean + 2sigma\n",
    "stdMean = hours_mean + 2*hours_stdev\n",
    "\n",
    "# Now compute the components: P(salary) and P(hours > stdMean)\n",
    "N = len(HR_data)  # total\n",
    "# P(hours > stdMean)\n",
    "p_hours = len(HR_data[HR_data.average_monthly_hours > stdMean]) / N\n",
    "# P(salary): these are the proportions of each salary type in the data\n",
    "p_salary = HR_data.salary.value_counts() / N\n",
    "\n",
    "# Then compute p(salary | hours > stdMean)\n",
    "# The number of each salary type that works > stdMean \n",
    "#  divided by the total number of workers who work > stdMean\n",
    "p_salary_hours = (HR_data[HR_data.average_monthly_hours > stdMean].salary.value_counts() \n",
    "                  / len(HR_data[HR_data.average_monthly_hours > stdMean]))\n",
    "\n",
    "# Finally use Bayes's Theorem to tie it all together and get P(hours > stdMean|salary)\n",
    "p_hours_salary = (p_salary_hours * p_hours) / p_salary"
   ]
  },
  {
   "cell_type": "code",
   "execution_count": 42,
   "metadata": {
    "collapsed": false
   },
   "outputs": [
    {
     "data": {
      "text/plain": [
       "low       0.013532\n",
       "medium    0.008998\n",
       "high      0.001617\n",
       "Name: salary, dtype: float64"
      ]
     },
     "execution_count": 42,
     "metadata": {},
     "output_type": "execute_result"
    }
   ],
   "source": [
    "p_hours_salary"
   ]
  },
  {
   "cell_type": "markdown",
   "metadata": {},
   "source": [
    "#### 7. What can you say about your results in part 6?"
   ]
  },
  {
   "cell_type": "code",
   "execution_count": 43,
   "metadata": {
    "collapsed": false
   },
   "outputs": [
    {
     "data": {
      "text/plain": [
       "low       0.487766\n",
       "medium    0.429762\n",
       "high      0.082472\n",
       "Name: salary, dtype: float64"
      ]
     },
     "execution_count": 43,
     "metadata": {},
     "output_type": "execute_result"
    }
   ],
   "source": [
    "# a quick look at salary level proportions\n",
    "p_salary"
   ]
  },
  {
   "cell_type": "code",
   "execution_count": 44,
   "metadata": {
    "collapsed": false
   },
   "outputs": [
    {
     "data": {
      "text/plain": [
       "low       0.622642\n",
       "medium    0.364780\n",
       "high      0.012579\n",
       "Name: salary, dtype: float64"
      ]
     },
     "execution_count": 44,
     "metadata": {},
     "output_type": "execute_result"
    }
   ],
   "source": [
    "# P(salary|hours > stdMean)\n",
    "# remeber that stdMean = mean hours + 2sigma\n",
    "p_salary_hours"
   ]
  },
  {
   "cell_type": "markdown",
   "metadata": {},
   "source": [
    "The results in part 6 seem to suggest that given a random sample with a known salary category, then the result is most likely to be two standard deviations from the mean if it was a salary in the low category.  Naively this means that lower paid employees tend to work longer hours."
   ]
  },
  {
   "cell_type": "markdown",
   "metadata": {},
   "source": [
    "#### 8. Repeat parts 6 and 7 for \n",
    "$$P(left \\vert salary ) = \\dfrac{P(salary \\vert left) P(left)}{P(salary)}$$\n"
   ]
  },
  {
   "cell_type": "code",
   "execution_count": 45,
   "metadata": {
    "collapsed": true
   },
   "outputs": [],
   "source": [
    "# Total number of employees\n",
    "N = len(HR_data)\n",
    "\n",
    "# proportion of employees who left\n",
    "p_left = len(HR_data[HR_data.left == 1]) / N\n",
    "# salary type proportions\n",
    "p_salary = HR_data.salary.value_counts() / N\n",
    "\n",
    "# P(salary|left): number of each salary type for those who left\n",
    "#  divided by the total number who left\n",
    "p_salary_left = (HR_data[HR_data.left == 1].salary.value_counts() \n",
    "                 / len(HR_data[HR_data.left == 1]))\n",
    "\n",
    "# Use Bayes to get P(left|salary)\n",
    "p_left_salary = (p_salary_left * p_left) / p_salary"
   ]
  },
  {
   "cell_type": "code",
   "execution_count": 46,
   "metadata": {
    "collapsed": false
   },
   "outputs": [
    {
     "data": {
      "text/plain": [
       "low       0.296884\n",
       "medium    0.204313\n",
       "high      0.066289\n",
       "Name: salary, dtype: float64"
      ]
     },
     "execution_count": 46,
     "metadata": {},
     "output_type": "execute_result"
    }
   ],
   "source": [
    "p_left_salary"
   ]
  },
  {
   "cell_type": "code",
   "execution_count": 47,
   "metadata": {
    "collapsed": false
   },
   "outputs": [
    {
     "data": {
      "text/plain": [
       "low       0.608233\n",
       "medium    0.368804\n",
       "high      0.022963\n",
       "Name: salary, dtype: float64"
      ]
     },
     "execution_count": 47,
     "metadata": {},
     "output_type": "execute_result"
    }
   ],
   "source": [
    "p_salary_left"
   ]
  },
  {
   "cell_type": "markdown",
   "metadata": {},
   "source": [
    "These results seem to suggest that the highest paid employees are the least likely to leave the company.  This is probably due to them being, in fact, the highest paid and having little incentive to leave."
   ]
  },
  {
   "cell_type": "markdown",
   "metadata": {},
   "source": [
    "#### 9. What is the odds ratio of an employee with a high salary getting a promotion within the past five years versus a low salary employee?  Comment on your results."
   ]
  },
  {
   "cell_type": "code",
   "execution_count": 48,
   "metadata": {
    "collapsed": false
   },
   "outputs": [],
   "source": [
    "# total number of employees for each salary type\n",
    "N = HR_data.salary.value_counts()\n",
    "\n",
    "# proportions of employees who were promoted by salary type\n",
    "got_p = HR_data[HR_data.promotion_last_5years == 1].salary.value_counts() / N\n",
    "# proportions of employees who were NOT promoted by salary type\n",
    "no_p = HR_data[HR_data.promotion_last_5years == 0].salary.value_counts() / N\n",
    "\n",
    "# compute the odds for high and low salary employees and the ratio of the two\n",
    "odds = (got_p[\"high\"]/no_p[\"high\"]) / (got_p[\"low\"]/no_p[\"low\"])"
   ]
  },
  {
   "cell_type": "code",
   "execution_count": 49,
   "metadata": {
    "collapsed": false
   },
   "outputs": [
    {
     "data": {
      "text/plain": [
       "6.788919235271166"
      ]
     },
     "execution_count": 49,
     "metadata": {},
     "output_type": "execute_result"
    }
   ],
   "source": [
    "odds"
   ]
  },
  {
   "cell_type": "markdown",
   "metadata": {},
   "source": [
    "Higher paid employees are nearly 7 times more likely to have received a promotion in the past five years.  This could mean several things.  It may mean that harder working employees are paid and promoted more.  However this could also just be a result that you would expect, since promotions and salaries increases ought to happen at the same time.  Further investigation, both statistical and perhaps speaking with the HR department itself, may be in order before drawing any solid conclusions from this."
   ]
  },
  {
   "cell_type": "markdown",
   "metadata": {},
   "source": [
    "#### 10. Suppose we were to pull a random sample of size 50 of employee satisfaction levels.  What would approximately be the mean of this sample?  What would be the mean of, say, 10 sets of random samples?  Demonstrate your assertions by writing some python code to do just that."
   ]
  },
  {
   "cell_type": "code",
   "execution_count": 50,
   "metadata": {
    "collapsed": false
   },
   "outputs": [
    {
     "data": {
      "text/plain": [
       "[0.6208,\n",
       " 0.638,\n",
       " 0.6466000000000001,\n",
       " 0.6074000000000003,\n",
       " 0.6327999999999999,\n",
       " 0.6549999999999998,\n",
       " 0.6039999999999999,\n",
       " 0.6284000000000002,\n",
       " 0.5924,\n",
       " 0.5802]"
      ]
     },
     "execution_count": 50,
     "metadata": {},
     "output_type": "execute_result"
    }
   ],
   "source": [
    "# create a list of 10 random samples of size 50 using a list comprehension\n",
    "samples = [HR_data.sample(50).satisfaction_level for i in range(10)]\n",
    "# create a list containing the mean of each individual sample\n",
    "means = [samples[i].mean() for i in range(len(samples))]\n",
    "means"
   ]
  },
  {
   "cell_type": "code",
   "execution_count": 51,
   "metadata": {
    "collapsed": false
   },
   "outputs": [
    {
     "data": {
      "text/plain": [
       "0.62056"
      ]
     },
     "execution_count": 51,
     "metadata": {},
     "output_type": "execute_result"
    }
   ],
   "source": [
    "# compute the mean of the sample means\n",
    "np.mean(means)"
   ]
  },
  {
   "cell_type": "code",
   "execution_count": 52,
   "metadata": {
    "collapsed": false
   },
   "outputs": [
    {
     "data": {
      "text/plain": [
       "0.6128335222348166"
      ]
     },
     "execution_count": 52,
     "metadata": {},
     "output_type": "execute_result"
    }
   ],
   "source": [
    "# what is the mean satisfaction level for all the data?\n",
    "HR_data.satisfaction_level.mean()"
   ]
  },
  {
   "cell_type": "markdown",
   "metadata": {},
   "source": [
    "The mean of each sample and the mean of all samples is nearly the same as the mean of the full data set."
   ]
  },
  {
   "cell_type": "markdown",
   "metadata": {
    "collapsed": true
   },
   "source": [
    "## Distributions and The Central Limit Theorem\n",
    "### The Bernoulli Distribution\n",
    "Bernoulli distributions are the result of a random variable with a binary outcome, like a coin flip or medical test giving a positive or negative result.  Typically we represent the outcomes of a Bernoulli Random variable $X$ of only taking values of 0 or 1, with probabilities $p$ and $1 - p$ respectively, mean $p$, variance $p(1 - p)$, and PMF given by\n",
    "\n",
    "$$ P(X = x) = p^x (1 - p)^{1 - x} $$\n",
    "\n",
    "Where $x$ is the outcome and $p$ is the probability of the positive outcome (1).\n",
    "\n",
    "Bernoulli random variables crop up very often in statistical analysis &mdash; most often in the form of Binomial trials, or, as a sum of independent Bernoulli variables with PMF given by \n",
    "$$ P(X = x) = {n \\choose x} p^x (1 - p)^{n - x} $$\n",
    "where\n",
    "$$ {n \\choose x} = \\frac{n!}{x!(n - x)!} $$\n",
    "In this exercise you'll take a look at the HR data and apply these concepts to gain some insight."
   ]
  },
  {
   "cell_type": "markdown",
   "metadata": {},
   "source": [
    "Using the HR data, answer the following.\n",
    "1. Which variables in the HR data can be said to be Bernoulli random variables?\n",
    "2. For the variables you identified in part 1, compute the probabilities $p_k$, of each having a positive $(x = 1)$ result, where $k$ is a placeholder for each variable.\n",
    "3. Compute the variance of each of the variables in part 2 using $p_k$ as described above.\n",
    "4. For each of the k variables, compute the probability of randomly selecting 3500 employees with a positive result.  Comment on your answer.\n",
    "5. For each of the k variables, compute the probability of randomly selecting 3500 **or less** with a positive result.  Comment on your answer.\n",
    "6. Now plot both the PMF and CDF as a function of the number of drawn samples for each of the k variables.  Comment on your results."
   ]
  },
  {
   "cell_type": "markdown",
   "metadata": {
    "collapsed": true
   },
   "source": [
    "#### 1. Which variables in the HR data can be said to be Bernoulli random variables?"
   ]
  },
  {
   "cell_type": "markdown",
   "metadata": {},
   "source": [
    "`work_accident`, `promotion_last_5years` , and `left`."
   ]
  },
  {
   "cell_type": "markdown",
   "metadata": {},
   "source": [
    "#### 2. For the variables you identified in part 1, compute the probabilities $p_k$, of each having a positive $(x = 1)$ result, where $k$ is a placeholder for each variable."
   ]
  },
  {
   "cell_type": "code",
   "execution_count": 54,
   "metadata": {
    "collapsed": false
   },
   "outputs": [
    {
     "data": {
      "text/plain": [
       "work_accident            0.144610\n",
       "promotion_last_5years    0.021268\n",
       "left                     0.238083\n",
       "dtype: float64"
      ]
     },
     "execution_count": 54,
     "metadata": {},
     "output_type": "execute_result"
    }
   ],
   "source": [
    "import pandas as pd\n",
    "# compute the mean of each variable (this is equal to p)\n",
    "p = HR_data[['work_accident', 'promotion_last_5years', 'left']].mean()\n",
    "p"
   ]
  },
  {
   "cell_type": "markdown",
   "metadata": {},
   "source": [
    "#### 3. Compute the variance of each of the variables in part 2 using $p_k$ as described above."
   ]
  },
  {
   "cell_type": "code",
   "execution_count": 55,
   "metadata": {
    "collapsed": false
   },
   "outputs": [
    {
     "data": {
      "text/plain": [
       "work_accident            0.123698\n",
       "promotion_last_5years    0.020816\n",
       "left                     0.181399\n",
       "dtype: float64"
      ]
     },
     "execution_count": 55,
     "metadata": {},
     "output_type": "execute_result"
    }
   ],
   "source": [
    "# from the Bernoulli equation for variance\n",
    "var = p*(1 - p)\n",
    "var"
   ]
  },
  {
   "cell_type": "markdown",
   "metadata": {},
   "source": [
    "#### 4. For each of the k variables, compute the probability of randomly selecting 3500 employees with a positive result.  Comment on your answer."
   ]
  },
  {
   "cell_type": "code",
   "execution_count": 58,
   "metadata": {
    "collapsed": false
   },
   "outputs": [
    {
     "data": {
      "text/plain": [
       "{'left': 0.0030366192962612546,\n",
       " 'promotion_last_5years': 0.0,\n",
       " 'work_accident': 3.3494533716445012e-183}"
      ]
     },
     "execution_count": 58,
     "metadata": {},
     "output_type": "execute_result"
    }
   ],
   "source": [
    "# import the binomial module from scipy\n",
    "from scipy.stats import binom\n",
    "\n",
    "N = len(HR_data)\n",
    "# create a dict to hold each of the variables and their respective probabilities\n",
    "b = {}\n",
    "# iterate through the p values for each variable\n",
    "# The `to_dict` method will convert the series 'p' to a dict\n",
    "#  and the for loop iteratres through the keys of the dict\n",
    "for x in p.to_dict():\n",
    "    # instantiate a binomial distribution using our parameters\n",
    "    #  for this variable\n",
    "    myBinom = binom(n = N, p = p[x])\n",
    "    # add the propability of selecting 3500 positives from this distribution\n",
    "    #  to the 'b' dict.\n",
    "    b[x] = myBinom.pmf(3500)\n",
    "b"
   ]
  },
  {
   "cell_type": "markdown",
   "metadata": {},
   "source": [
    "It appears that it is nearly impossible to draw 3500 employees with a positive result for `Work_accident` and `promotion_last_5years` while there is a small probability of choosing 3500 for `left` which is close to the mean."
   ]
  },
  {
   "cell_type": "markdown",
   "metadata": {},
   "source": [
    "#### 5. For each of the k variables, compute the probability of randomly selecting 3500 **or less** with a positive result.  Comment on your answer."
   ]
  },
  {
   "cell_type": "code",
   "execution_count": 59,
   "metadata": {
    "collapsed": false
   },
   "outputs": [
    {
     "data": {
      "text/plain": [
       "{'left': 0.088031181043273107,\n",
       " 'promotion_last_5years': 0.99999999999999989,\n",
       " 'work_accident': 0.99999999999999989}"
      ]
     },
     "execution_count": 59,
     "metadata": {},
     "output_type": "execute_result"
    }
   ],
   "source": [
    "# init empty dict to store results\n",
    "b = {}\n",
    "# iterate through the variables as in part 5\n",
    "for x in p.to_dict():\n",
    "    # create the distribution\n",
    "    myBinom = binom(n = N, p = p[x])\n",
    "    # add the probability of selecting 3500 to the dict\n",
    "    # this uses the CDF method instead of the PMF\n",
    "    b[x] = myBinom.cdf(3500)\n",
    "b"
   ]
  },
  {
   "cell_type": "markdown",
   "metadata": {},
   "source": [
    "In this case, it is very likely that at most 3500 have been drawn for `work_accident` and `promotion_last_5years`, but not quite so likely that at most 3500 have been drawn for `left`."
   ]
  },
  {
   "cell_type": "markdown",
   "metadata": {},
   "source": [
    "#### 6. Now plot both the PMF and CDF as a function of the number of drawn samples for each of the k variables.  Comment on your results."
   ]
  },
  {
   "cell_type": "code",
   "execution_count": 62,
   "metadata": {
    "collapsed": false
   },
   "outputs": [],
   "source": [
    "import matplotlib.pyplot as plt\n",
    "\n",
    "# init empty dict to store y-values for each variable\n",
    "b_pmf = {}\n",
    "# iterate over variables\n",
    "for x in p.to_dict():\n",
    "    # list to store y-values\n",
    "    y = []\n",
    "    # iterate through range of total number of data points\n",
    "    # each j-value will be the number of positive results from size N\n",
    "    for j in range(N):\n",
    "        # create binomial distribution with p = p[variable name]\n",
    "        myBinom = binom(n = N, p = p[x])\n",
    "        # append the probability of j successes to y-values\n",
    "        y.append(myBinom.pmf(j))\n",
    "    # add y-values for current variable to dict\n",
    "    b_pmf[x] = y"
   ]
  },
  {
   "cell_type": "code",
   "execution_count": 66,
   "metadata": {
    "collapsed": false
   },
   "outputs": [
    {
     "data": {
      "image/png": "[encoded data removed]",
      "text/plain": [
       "<matplotlib.figure.Figure at 0x7f1beebe12b0>"
      ]
     },
     "metadata": {},
     "output_type": "display_data"
    }
   ],
   "source": [
    "# set figure size\n",
    "plt.figure(figsize=(10,6))\n",
    "# plot the results one variable at a time\n",
    "# and include a label parameter in each plot for use in the legend\n",
    "plt.plot(b_pmf['work_accident'], 'r', label = 'work_accident')\n",
    "plt.plot(b_pmf['left'], 'g', label = 'left')\n",
    "plt.plot(b_pmf['promotion_last_5years'], 'b', label = 'promotion_last_5years')\n",
    "# show the legend\n",
    "plt.legend()\n",
    "# set the title\n",
    "plt.title('PMF')\n",
    "plt.show()"
   ]
  },
  {
   "cell_type": "code",
   "execution_count": 67,
   "metadata": {
    "collapsed": true
   },
   "outputs": [],
   "source": [
    "# do the same as before for CDF\n",
    "# this will take longer\n",
    "b_cdf = {}\n",
    "for x in p.to_dict():\n",
    "    y = []\n",
    "    for j in range(N):\n",
    "        myBinom = binom(n = N, p = p[x])\n",
    "        y.append(myBinom.cdf(j))\n",
    "    b_cdf[x] = y"
   ]
  },
  {
   "cell_type": "code",
   "execution_count": 69,
   "metadata": {
    "collapsed": false
   },
   "outputs": [
    {
     "data": {
      "image/png": "[encoded data removed]",
      "text/plain": [
       "<matplotlib.figure.Figure at 0x7f1beeb87dd8>"
      ]
     },
     "metadata": {},
     "output_type": "display_data"
    }
   ],
   "source": [
    "plt.figure(figsize=(10,6))\n",
    "plt.plot(b_cdf['work_accident'], 'r', label = 'work_accident')\n",
    "plt.plot(b_cdf['left'], 'g', label = 'left')\n",
    "plt.plot(b_cdf['promotion_last_5years'], 'b', label = 'promotion_last_5years')\n",
    "plt.ylim(ymax = 1.1, ymin = 0)\n",
    "plt.legend()\n",
    "plt.title('CDF')\n",
    "plt.show()"
   ]
  },
  {
   "cell_type": "code",
   "execution_count": 70,
   "metadata": {
    "collapsed": false
   },
   "outputs": [
    {
     "data": {
      "text/plain": [
       "work_accident            2169.0\n",
       "promotion_last_5years     319.0\n",
       "left                     3571.0\n",
       "dtype: float64"
      ]
     },
     "execution_count": 70,
     "metadata": {},
     "output_type": "execute_result"
    }
   ],
   "source": [
    "# a quick look at the expected values\n",
    "p * N"
   ]
  },
  {
   "cell_type": "markdown",
   "metadata": {},
   "source": [
    "It would seem that both the PMF and CDF all spike around at the mean, or probability, of each of the respective variables.  This follows the intuition that the probability in a Bernoulli random variable is the expected number of outcomes."
   ]
  },
  {
   "cell_type": "markdown",
   "metadata": {},
   "source": [
    "### The Normal Distribution\n",
    "The Normal distribution (or sometimes called the Bell Curve or Guassian) is by far the most prevalent and useful distribution in any field that utilizes statistical techniques.  In fact, in can be shown that the means of random variables sampled repeatedly from **any** distribution eventually form a normal given a sufficiently large sample size.\n",
    "\n",
    "A normal distribution is characterized by the PDF given by\n",
    "$$p(x|\\mu,\\sigma) = \\frac{1}{\\sqrt{(2\\pi\\sigma^2)}}e^{-\\frac{(x - \\mu)^2}{2\\sigma^2}} $$"
   ]
  },
  {
   "cell_type": "markdown",
   "metadata": {},
   "source": [
    "where $\\mu$ is the mean and $\\sigma^2$ is the variance, thus the distribution is characterized by mean and variance alone.  In this exercise, you'll examine some of the variables in the HR dataset and construct some normal distributions approximating them.\n",
    "\n",
    "Using the HR data, answer the following\n",
    "\n",
    "1. Which variables may be approximately normal?\n",
    "2. For the variables in part 1, plot some histograms.\n",
    "3. Compute the mean and variance for each of the variables used in parts 1 and 2.\n",
    "4. Using the mean and variance in part 3, construct normal distributions for each and overlay them on top of the histograms you made in part one.  Are they well approximated by normals?"
   ]
  },
  {
   "cell_type": "markdown",
   "metadata": {},
   "source": [
    "#### 1. Which variables may be approximately normal?"
   ]
  },
  {
   "cell_type": "code",
   "execution_count": 48,
   "metadata": {
    "collapsed": true
   },
   "outputs": [],
   "source": [
    "import pandas as pd\n",
    "\n",
    "# HR_data = pd.read_csv('../../data/HR_comma_sep.csv')"
   ]
  },
  {
   "cell_type": "markdown",
   "metadata": {},
   "source": [
    "`satisfaction_level`, `last_evaluation`, and `average_monthly_hours`.  Although `timed spend_company` and `number_project` could be modeled using a continuous function, we will neglect them here, treating them as discrete.  `average_monthly_hours` could also be considered discrete, but we will treat it as continuous in this case."
   ]
  },
  {
   "cell_type": "markdown",
   "metadata": {},
   "source": [
    "#### 2. For the variables in part 1, plot some histograms."
   ]
  },
  {
   "cell_type": "code",
   "execution_count": 106,
   "metadata": {
    "collapsed": false
   },
   "outputs": [
    {
     "data": {
      "image/png": "[encoded data removed]",
      "text/plain": [
       "<matplotlib.figure.Figure at 0x7f1bec301390>"
      ]
     },
     "metadata": {},
     "output_type": "display_data"
    }
   ],
   "source": [
    "import numpy as np\n",
    "import matplotlib.pyplot as plt\n",
    "\n",
    "# initialize a set of suplots\n",
    "f, axarr = plt.subplots(2, 2, figsize=(10,6))\n",
    "# each subplot has a coordinate in axarr\n",
    "# plot a histogram for each variable at each of three of the four subplots\n",
    "axarr[0, 0].hist(HR_data.satisfaction_level, normed = True, bins = 'auto')\n",
    "axarr[0, 1].hist(HR_data.last_evaluation, normed = True, bins = 'auto')\n",
    "axarr[1, 0].hist(HR_data.average_monthly_hours, normed = True, bins = 'auto')\n",
    "# show inline\n",
    "plt.show()"
   ]
  },
  {
   "cell_type": "markdown",
   "metadata": {},
   "source": [
    "#### 3. Compute the mean and variance for each of the variables used in parts 1 and 2."
   ]
  },
  {
   "cell_type": "code",
   "execution_count": 99,
   "metadata": {
    "collapsed": true
   },
   "outputs": [],
   "source": [
    "# compute for all three variables of interest\n",
    "means = HR_data[['satisfaction_level', 'last_evaluation', 'average_monthly_hours']].mean()\n",
    "var = HR_data[['satisfaction_level', 'last_evaluation', 'average_monthly_hours']].var()"
   ]
  },
  {
   "cell_type": "markdown",
   "metadata": {},
   "source": [
    "#### 4. Using the mean and variance in part 3, construct normal distributions for each and overlay them on top of the histograms you made in part one.  Are they well approximated by normals?"
   ]
  },
  {
   "cell_type": "code",
   "execution_count": 101,
   "metadata": {
    "collapsed": true
   },
   "outputs": [],
   "source": [
    "np.linspace?"
   ]
  },
  {
   "cell_type": "code",
   "execution_count": 102,
   "metadata": {
    "collapsed": true
   },
   "outputs": [],
   "source": [
    "# import the normal distribution module from scipy\n",
    "from scipy.stats import norm\n",
    "\n",
    "# get only the data for variables of interest\n",
    "myData = HR_data[['satisfaction_level', 'last_evaluation', 'average_monthly_hours']]\n",
    "# create series that holds stdev for each variable\n",
    "stds = myData.std()\n",
    "\n",
    "# init empty dict to hold normal distributions for each var\n",
    "normals = {}\n",
    "# init dict to hold sequence of evenly spaced x-values for each var\n",
    "x = {}\n",
    "# iterate over the columns\n",
    "for col in myData:\n",
    "    # create normal distribution for current var based on the stats we computed\n",
    "    normals[col] = norm(loc = means[col], scale = stds[col])\n",
    "    # generate and add sequence for current col\n",
    "    x[col] = np.linspace(normals[col].ppf(0.01),  # start\n",
    "                         normals[col].ppf(0.99),  # stop\n",
    "                         100)  # number of samples"
   ]
  },
  {
   "cell_type": "code",
   "execution_count": 103,
   "metadata": {
    "collapsed": false
   },
   "outputs": [
    {
     "data": {
      "image/png": "[encoded data removed]",
      "text/plain": [
       "<matplotlib.figure.Figure at 0x7f1bec1c9b70>"
      ]
     },
     "metadata": {},
     "output_type": "display_data"
    }
   ],
   "source": [
    "# plot the histograms just as before, but also include a normal curve for each subplot\n",
    "f, axarr = plt.subplots(2, 2, figsize=(10,6))\n",
    "\n",
    "axarr[0, 0].hist(HR_data.satisfaction_level, normed = True, bins = 'auto')\n",
    "# include normal curve on same subplot\n",
    "# the distribution from normals['satisfaction_level'] will generate y-values from the x-values\n",
    "axarr[0, 0].plot(x['satisfaction_level'], normals['satisfaction_level'].pdf(x['satisfaction_level']))\n",
    "\n",
    "axarr[0, 1].hist(HR_data.last_evaluation, normed = True, bins = 'auto')\n",
    "axarr[0, 1].plot(x['last_evaluation'], normals['last_evaluation'].pdf(x['last_evaluation']))\n",
    "\n",
    "\n",
    "axarr[1, 0].hist(HR_data.average_monthly_hours, normed = True, bins = 'auto')\n",
    "axarr[1, 0].plot(x['average_monthly_hours'], normals['average_monthly_hours'].pdf(x['average_monthly_hours']))\n",
    "\n",
    "plt.show()"
   ]
  },
  {
   "cell_type": "markdown",
   "metadata": {},
   "source": [
    "**The upper-left distribution looks much closer to normal than the other two, which appear to be bimodal.**"
   ]
  },
  {
   "cell_type": "markdown",
   "metadata": {},
   "source": [
    "The distributions look somewhat normal, but would need some transforms applied to them to get them into the proper shape."
   ]
  },
  {
   "cell_type": "markdown",
   "metadata": {},
   "source": [
    "### The Poisson Distribution\n",
    "The Poisson distribution is very versatile but is typically used to model counts per unit time or space, such as the number of ad clicks or arriving flights, each per unit time. It has a PDF given by\n",
    "$$ P(X = x, \\lambda) = \\frac{\\lambda^x e^{-\\lambda}}{x!} $$\n",
    "where the mean and variance are both equal to $\\lambda$\n",
    "\n",
    "Using the HR data, answer the following.\n",
    "\n",
    "1. What variables would be good candidates for modeling with a Poisson distribution?\n",
    "2. For each variable in part 1, divide each by salary and fit a Poisson distribution to each.\n",
    "3. For each salary level, compute the probability of obtaining at least the mean of each variable &mdash; regardless of salary level &mdash; by using the Poisson distributions you constructed in part 2.  Comment on your results."
   ]
  },
  {
   "cell_type": "markdown",
   "metadata": {
    "collapsed": true
   },
   "source": [
    "#### 1. What variables would be good candidates for modeling with a Poisson distribution?"
   ]
  },
  {
   "cell_type": "markdown",
   "metadata": {},
   "source": [
    "`number_project`, and `time_spend_company`\n",
    "\n",
    "The latter could be thought of as the number of employees who leave in a unit of time."
   ]
  },
  {
   "cell_type": "markdown",
   "metadata": {},
   "source": [
    "#### 2. For each variable in part 1, divide each by salary and fit a Poisson distribution to each."
   ]
  },
  {
   "cell_type": "code",
   "execution_count": 112,
   "metadata": {
    "collapsed": false
   },
   "outputs": [
    {
     "name": "stdout",
     "output_type": "stream",
     "text": [
      "number_project low 3.799890650628759 3.79989065063\n",
      "number_project medium 3.8135277691591685 3.81352776916\n",
      "number_project high 3.767178658043654 3.76717865804\n",
      "time_spend_company low 3.4382176052487696 3.43821760525\n",
      "time_spend_company medium 3.52901023890785 3.52901023891\n",
      "time_spend_company high 3.692805173807599 3.69280517381\n"
     ]
    }
   ],
   "source": [
    "import pandas as pd\n",
    "from scipy.stats import poisson\n",
    "\n",
    "# HR_data = pd.read_csv('../../data/HR_comma_sep.csv')\n",
    "\n",
    "# get only data for vars we want\n",
    "data = HR_data[['number_project', 'time_spend_company', 'salary']]\n",
    "# array of unique salary types\n",
    "sal_cats = HR_data.salary.unique()\n",
    "\n",
    "# init dict to store a dict for each var\n",
    "data_sub = {}\n",
    "# iterate over the two Poisson candidate variables\n",
    "for col in ('number_project', 'time_spend_company'):\n",
    "    # dict to hold distribution object for each salary category\n",
    "    # for current var\n",
    "    cat_sub = {}\n",
    "    # iterate over salary categories\n",
    "    for cat in sal_cats:\n",
    "        # mean for current var and salary category\n",
    "        l = data[col][data.salary == cat].mean()\n",
    "        # add poisson distribution for current mean\n",
    "        cat_sub[cat] = poisson(mu = l)\n",
    "        # print current var, category, mean just completed\n",
    "        print(col, cat, l, cat_sub[cat].mean())\n",
    "    # add distributions for current var\n",
    "    data_sub[col] = cat_sub"
   ]
  },
  {
   "cell_type": "markdown",
   "metadata": {},
   "source": [
    "#### 3. For each salary level, compute the probability of obtaining at least the mean of each variable &mdash; regardless of salary level &mdash; by using the Poisson distributions you constructed in part 2.  Comment on your results."
   ]
  },
  {
   "cell_type": "code",
   "execution_count": 117,
   "metadata": {
    "collapsed": false
   },
   "outputs": [],
   "source": [
    "# init dict to store dict of probabilities for each var\n",
    "probs = {}\n",
    "# iterate over vars\n",
    "for col in ('number_project', 'time_spend_company'):\n",
    "    # get mean from data for current var\n",
    "    mean_temp = data[col].mean()\n",
    "    # dict to hold probabilites for each salary category for current var\n",
    "    probs_cat = {}\n",
    "    # iterate over categories\n",
    "    for cat in sal_cats:\n",
    "        # compute probability for current cat using sf method (survival function)\n",
    "        # from the distribution in the dict created in part 2\n",
    "        # sf = 1-cdf is used for P(X > x)\n",
    "        probs_cat[cat] = data_sub[col][cat].sf(mean_temp)\n",
    "    # add dict of probs for current var\n",
    "    probs[col] = probs_cat"
   ]
  },
  {
   "cell_type": "code",
   "execution_count": 119,
   "metadata": {
    "collapsed": false
   },
   "outputs": [
    {
     "data": {
      "text/plain": [
       "{'number_project': {'high': 0.5197772989110967,\n",
       "  'low': 0.52649278489553697,\n",
       "  'medium': 0.52927882346076038},\n",
       " 'time_spend_company': {'high': 0.50434403111681059,\n",
       "  'low': 0.44997869146511071,\n",
       "  'medium': 0.4696141528359114}}"
      ]
     },
     "execution_count": 119,
     "metadata": {},
     "output_type": "execute_result"
    }
   ],
   "source": [
    "probs"
   ]
  },
  {
   "cell_type": "markdown",
   "metadata": {},
   "source": [
    "**Alternative**"
   ]
  },
  {
   "cell_type": "code",
   "execution_count": 118,
   "metadata": {
    "collapsed": false
   },
   "outputs": [
    {
     "data": {
      "text/html": [
       "<div>\n",
       "<style>\n",
       "    .dataframe thead tr:only-child th {\n",
       "        text-align: right;\n",
       "    }\n",
       "\n",
       "    .dataframe thead th {\n",
       "        text-align: left;\n",
       "    }\n",
       "\n",
       "    .dataframe tbody tr th {\n",
       "        vertical-align: top;\n",
       "    }\n",
       "</style>\n",
       "<table border=\"1\" class=\"dataframe\">\n",
       "  <thead>\n",
       "    <tr style=\"text-align: right;\">\n",
       "      <th></th>\n",
       "      <th>number_project</th>\n",
       "      <th>time_spend_company</th>\n",
       "    </tr>\n",
       "  </thead>\n",
       "  <tbody>\n",
       "    <tr>\n",
       "      <th>high</th>\n",
       "      <td>0.519777</td>\n",
       "      <td>0.504344</td>\n",
       "    </tr>\n",
       "    <tr>\n",
       "      <th>low</th>\n",
       "      <td>0.526493</td>\n",
       "      <td>0.449979</td>\n",
       "    </tr>\n",
       "    <tr>\n",
       "      <th>medium</th>\n",
       "      <td>0.529279</td>\n",
       "      <td>0.469614</td>\n",
       "    </tr>\n",
       "  </tbody>\n",
       "</table>\n",
       "</div>"
      ],
      "text/plain": [
       "        number_project  time_spend_company\n",
       "high          0.519777            0.504344\n",
       "low           0.526493            0.449979\n",
       "medium        0.529279            0.469614"
      ]
     },
     "execution_count": 118,
     "metadata": {},
     "output_type": "execute_result"
    }
   ],
   "source": [
    "from pandas import DataFrame as DF\n",
    "DF(probs)"
   ]
  },
  {
   "cell_type": "markdown",
   "metadata": {},
   "source": [
    "**End Alternative**"
   ]
  },
  {
   "cell_type": "markdown",
   "metadata": {},
   "source": [
    "The results suggest that the higher paid the employees are less likely to have more than an average number of projects but more likely to have longer than average tenure."
   ]
  },
  {
   "cell_type": "markdown",
   "metadata": {},
   "source": [
    "### The Central Limit Theorem\n",
    "The Central Limit Theorem is perhaps one of the most remarkable results in statistics and mathematics in general.  In short, it says that the distribution of means of independent random variables, sampled from **any** distribution, tends to approach a normal distribution as the sample size increases.\n",
    "\n",
    "An example of this would be taking a pair of dice, rolling them, and recording the mean of each result.  The Central Limit Theorem states, that after enough rolls, the distribution of the means will be approximately normal.  Stated formally, the result is\n",
    "    $$ \\bar{X_n} \\sim N(\\mu, \\sigma^2/n) = \\frac{\\sqrt{n}}{\\sigma \\sqrt{2\\pi}}e^{-n(\\bar{X_n} - \\mu)^2/\\sigma^2}$$\n",
    "In this exercise, you'll conduct some simulation experiments to explore this idea.\n",
    "\n",
    "Using the HR data, answer the following.\n",
    "1. Choose two variables which may be good candidates to test this theorem.\n",
    "2. Using the variables chosen in part 1, randomly select a set of `n = 10` samples and take the mean.  Repeat this 1000 times for each variable.\n",
    "3. Plot a histogram for each variable used in part 2.  Comment on your results.\n",
    "4. Repeat parts 2-3 for `n = 100`, `n = 500`, and `n = 1000`.  Comment on your results.\n",
    "5. Overlay an normal curve on your `n = 1000` plots, using the mean and variance computed from the data.  Comment on your results."
   ]
  },
  {
   "cell_type": "markdown",
   "metadata": {},
   "source": [
    "#### 1. Choose two variables which may be good candidates to test this theorem."
   ]
  },
  {
   "cell_type": "code",
   "execution_count": 120,
   "metadata": {
    "collapsed": false
   },
   "outputs": [],
   "source": [
    "import pandas as pd\n",
    "\n",
    "# get only the data for variables of interest\n",
    "data = HR_data[['satisfaction_level', 'number_project']]"
   ]
  },
  {
   "cell_type": "markdown",
   "metadata": {},
   "source": [
    "#### 2. Using the variables chosen in part 1, randomly select a set of `n = 10` samples and take the mean.  Repeat this 1000 times for each variable."
   ]
  },
  {
   "cell_type": "code",
   "execution_count": 121,
   "metadata": {
    "collapsed": false
   },
   "outputs": [],
   "source": [
    "# dict to store means\n",
    "means = {}\n",
    "# iterate over var names in data\n",
    "for col in data:\n",
    "    # create list of means for 1000 random samples of size 10 for current var\n",
    "    # and store list in dict\n",
    "    means[col] = [data[col].sample(10).mean() for i in range(1000)]"
   ]
  },
  {
   "cell_type": "markdown",
   "metadata": {},
   "source": [
    "#### 3. Plot a histogram for each variable used in part 2.  Comment on your results."
   ]
  },
  {
   "cell_type": "code",
   "execution_count": 122,
   "metadata": {
    "collapsed": false
   },
   "outputs": [
    {
     "data": {
      "image/png": "[encoded data removed]",
      "text/plain": [
       "<matplotlib.figure.Figure at 0x7f1bedfce550>"
      ]
     },
     "metadata": {},
     "output_type": "display_data"
    }
   ],
   "source": [
    "import matplotlib.pyplot as plt\n",
    "\n",
    "# create 2 subplots (vertically stacked)\n",
    "f, axarr = plt.subplots(2, figsize=(10,6))\n",
    "# plot hist of sample means for first var on the top subplot\n",
    "axarr[0].hist(means['satisfaction_level'], normed = True, bins = 'auto')\n",
    "# plot hist of sample means for second var on the top subplot\n",
    "axarr[1].hist(means['number_project'], normed = True, bins = 'auto')\n",
    "plt.show()"
   ]
  },
  {
   "cell_type": "markdown",
   "metadata": {},
   "source": [
    "The plots are starting to look a bit normal."
   ]
  },
  {
   "cell_type": "markdown",
   "metadata": {},
   "source": [
    "#### 4. Repeat parts 2-3 for `n = 100`, `n = 500`, and `n = 1000`.  Comment on your results."
   ]
  },
  {
   "cell_type": "code",
   "execution_count": 124,
   "metadata": {
    "collapsed": false
   },
   "outputs": [
    {
     "data": {
      "image/png": "[encoded data removed]",
      "text/plain": [
       "<matplotlib.figure.Figure at 0x7f1bedf37b38>"
      ]
     },
     "metadata": {},
     "output_type": "display_data"
    }
   ],
   "source": [
    "# n = 100\n",
    "means = {}\n",
    "for col in data:\n",
    "    means[col] = [data[col].sample(100).mean() for i in range(1000)]\n",
    "    \n",
    "f, axarr = plt.subplots(2, figsize=(10,6)) \n",
    "axarr[0].hist(means['satisfaction_level'], normed = True, bins = 'auto')\n",
    "axarr[1].hist(means['number_project'], normed = True, bins = 'auto')\n",
    "plt.show()"
   ]
  },
  {
   "cell_type": "code",
   "execution_count": 125,
   "metadata": {
    "collapsed": false
   },
   "outputs": [
    {
     "data": {
      "image/png": "[encoded data removed]",
      "text/plain": [
       "<matplotlib.figure.Figure at 0x7f1be62bf9e8>"
      ]
     },
     "metadata": {},
     "output_type": "display_data"
    }
   ],
   "source": [
    "# n = 500\n",
    "means = {}\n",
    "for col in data:\n",
    "    means[col] = [data[col].sample(500).mean() for i in range(1000)]\n",
    "\n",
    "f, axarr = plt.subplots(2, figsize=(10,6))\n",
    "axarr[0].hist(means['satisfaction_level'], normed = True, bins = 'auto')\n",
    "axarr[1].hist(means['number_project'], normed = True, bins = 'auto')\n",
    "plt.show()"
   ]
  },
  {
   "cell_type": "code",
   "execution_count": 127,
   "metadata": {
    "collapsed": false
   },
   "outputs": [
    {
     "data": {
      "image/png": "[encoded data removed]",
      "text/plain": [
       "<matplotlib.figure.Figure at 0x7f1beebb4a90>"
      ]
     },
     "metadata": {},
     "output_type": "display_data"
    }
   ],
   "source": [
    "# n = 1000\n",
    "means = {}\n",
    "for col in data:\n",
    "    means[col] = [data[col].sample(1000).mean() for i in range(1000)]\n",
    "\n",
    "f, axarr = plt.subplots(2, figsize=(10,6))   \n",
    "axarr[0].hist(means['satisfaction_level'], normed = True, bins = 'auto')\n",
    "axarr[1].hist(means['number_project'], normed = True, bins = 'auto')\n",
    "plt.show()"
   ]
  },
  {
   "cell_type": "markdown",
   "metadata": {},
   "source": [
    "As the sample size increases, the plots look more normal."
   ]
  },
  {
   "cell_type": "markdown",
   "metadata": {},
   "source": [
    "#### 5. Overlay an normal curve on your `n = 1000` plots, using the mean and variance computed from the data.  Comment on your results."
   ]
  },
  {
   "cell_type": "code",
   "execution_count": 128,
   "metadata": {
    "collapsed": false
   },
   "outputs": [],
   "source": [
    "import numpy as np\n",
    "# import normal distribution module\n",
    "from scipy.stats import norm\n",
    "\n",
    "# get stds and means for both vars in this data\n",
    "stds = data.std()\n",
    "# real: meaning the true mean of our data\n",
    "means_real = data.mean()\n",
    "\n",
    "# dict to store distributions\n",
    "normals = {}\n",
    "# store uniformly spaced x values\n",
    "x = {}\n",
    "# iterate over vars\n",
    "for col in data:\n",
    "    # create and add normal distribution object to normals dict\n",
    "    normals[col] = norm(loc = means_real[col], scale = stds[col]/np.sqrt(1000))\n",
    "    # create and store array of x values\n",
    "    x[col] = np.linspace(normals[col].ppf(0.01),  # start\n",
    "                         normals[col].ppf(0.99),  # stop\n",
    "                         100)  # number of values\n",
    "\n",
    "# w = [1/1000 for i in range(1000)]"
   ]
  },
  {
   "cell_type": "code",
   "execution_count": 130,
   "metadata": {
    "collapsed": false
   },
   "outputs": [
    {
     "data": {
      "image/png": "[encoded data removed]",
      "text/plain": [
       "<matplotlib.figure.Figure at 0x7f1bec45ccf8>"
      ]
     },
     "metadata": {},
     "output_type": "display_data"
    }
   ],
   "source": [
    "# create empty subplots\n",
    "f, axarr = plt.subplots(2, figsize=(10,6))\n",
    "# plot hist and normal curve on each subplot\n",
    "axarr[0].hist(means['satisfaction_level'], normed = True, bins = 'auto')\n",
    "axarr[0].plot(x['satisfaction_level'], normals['satisfaction_level'].pdf(x['satisfaction_level']))\n",
    "axarr[1].hist(means['number_project'], normed = True, bins = 'auto')\n",
    "axarr[1].plot(x['number_project'], normals['number_project'].pdf(x['number_project']))\n",
    "plt.show()"
   ]
  },
  {
   "cell_type": "markdown",
   "metadata": {},
   "source": [
    "After 1000 samples, the distribution of means is approximately normal."
   ]
  },
  {
   "cell_type": "markdown",
   "metadata": {},
   "source": [
    "## Hypothesis Testing\n",
    "Hypothesis testing is essentially using the data to answer questions of interest.  For example, does a new medication provide any benefit over placebo?  Or is a subset of the population disproportionately more susceptible to a particular disease?  Or is the difference between two companies profits' significant or due to chance alone?\n",
    "\n",
    "Before doing some hypothesis testing on the HR data, recall that hypothesis typically come in pairs of the form $H_0$, called the null hypothesis, versus $H_a$, called the alternative hypothesis.  The null hypothesis represents the \"default\" assumption -- that a medication has no effect for example, while the alternative hypothesis represents what exactly we are looking to discover, in the medication case, whether it provides a significant benefit.  Another common case is testing the difference between two means.  Here, the null hypothesis is that there is no difference between two population means, whereas the alternative hypothesis is that there is a difference.  Stated more precisely\n",
    "$$H_0: \\mu_1 - \\mu_2 = 0$$\n",
    "$$H_a: \\mu_1 - \\mu_2 \\ne 0$$\n",
    "\n",
    "Hypotheses are usually tested by constructing a confidence interval around the test statistic and selecting a \"cut-off\" significance level denoted $\\alpha$.  A typical $\\alpha$ significance is 0.05 and is often called a \"p-value\".  If a test produces a p-value of $\\alpha$ or below, then the null hypothesis can be rejected, strengthening the case of the alternative hypothesis.  It is very important to remember that hypothesis testing can only tell you if your hypothesis is statistically significant -- this does **not** mean that your result may be scientifically significant which requires much more evidence.\n",
    "\n",
    "In this exercise you'll explore the HR data more and test some hypothesis.\n",
    "\n",
    "Using the HR data, answer the following.\n",
    "\n",
    "1. Compute a confidence interval for satisfaction levels, at the 95% confidence level, of employees who left the company and those who didn't.  Do this using both a t distribution and a normal.  Comment on your results.\n",
    "2. Use a t-test to test the hypothesis that employees who left the company, had lower satisfaction levels than those who did not.  If significant, is the mean difference?  Comment on your results.  (Hint: Do the two populations have equal variance?)\n",
    "3. Fit a normal curve to each group in part 2 and put them on the same plot next to each other.  Comment on your results.\n",
    "4. Test the hypothesis that the satisfaction level between each salary group, denoted k, differs signicantly from the mean.  Namely\n",
    "    - $H_0: \\mu - \\mu_k = 0$\n",
    "    - $H_a: \\mu - \\mu_k \\ne 0$\n",
    "5. How would you interpret your results in part 5?\n",
    "6. Generate plots for part 5 as you did in part 3.  What conclusions can you draw from the plot?\n",
    "7. Repeat parts 4-6 on a hypothesis of your choosing.\n",
    "8. Recall that Power is the probability of failing to reject the null hypothesis when it is false (thus more power is good).  Compute the power for the hypothesis that the satisfaction level of high paid employees is different than that of medium paid employees using a t distribution."
   ]
  },
  {
   "cell_type": "markdown",
   "metadata": {},
   "source": [
    "#### 1. Compute a confidence interval for satisfaction levels, at the 95% confidence level, of employees who left the company and those who didn't.  Do this using both a t distribution and a normal.  Comment on your results."
   ]
  },
  {
   "cell_type": "code",
   "execution_count": 134,
   "metadata": {
    "collapsed": false
   },
   "outputs": [
    {
     "name": "stdout",
     "output_type": "stream",
     "text": [
      "{'left': (0.43143847133170987, 0.44875755219111291),\n",
      " 'stayed': (0.66282873590383407, 0.67079044505521401)}\n"
     ]
    }
   ],
   "source": [
    "import pandas as pd\n",
    "# import statsmodels statistics api\n",
    "import statsmodels.stats.api as sm\n",
    "\n",
    "# HR_data = pd.read_csv('../../data/HR_comma_sep.csv')\n",
    "\n",
    "# compute confidence intervals using t-distributions for satisfaction level for both stayed and left\n",
    "{'stayed': sm.DescrStatsW(HR_data[HR_data.left == 0].satisfaction_level).tconfint_mean(alpha = 0.05),\n",
    " 'left': sm.DescrStatsW(HR_data[HR_data.left == 1].satisfaction_level).tconfint_mean(alpha = 0.05)}"
   ]
  },
  {
   "cell_type": "code",
   "execution_count": 65,
   "metadata": {
    "collapsed": false
   },
   "outputs": [
    {
     "data": {
      "text/plain": [
       "{'left': (0.43144140722566204, 0.44875461629716118),\n",
       " 'stayed': (0.66282915756106608, 0.67079002339798266)}"
      ]
     },
     "execution_count": 65,
     "metadata": {},
     "output_type": "execute_result"
    }
   ],
   "source": [
    "# compute confidence intervals using normal distributions for satisfaction level for both stayed and left\n",
    "{'stayed': sm.DescrStatsW(HR_data[HR_data.left == 0].satisfaction_level).zconfint_mean(alpha = 0.05),\n",
    " 'left': sm.DescrStatsW(HR_data[HR_data.left == 1].satisfaction_level).zconfint_mean(alpha = 0.05)}"
   ]
  },
  {
   "cell_type": "markdown",
   "metadata": {},
   "source": [
    "The results for both the normal and t confidence intervals are nearly identical and indicate that employees who left the company have lower satisfaction levels."
   ]
  },
  {
   "cell_type": "markdown",
   "metadata": {},
   "source": [
    "#### 2. Use a t-test to test the hypothesis that employees who left the company, had lower satisfaction levels than those who did not.  If significant, is the mean difference?  Comment on your results.  (Hint: Do the two populations have equal variance?)"
   ]
  },
  {
   "cell_type": "code",
   "execution_count": 136,
   "metadata": {
    "collapsed": true
   },
   "outputs": [],
   "source": [
    "ttest_ind?"
   ]
  },
  {
   "cell_type": "code",
   "execution_count": 139,
   "metadata": {
    "collapsed": false
   },
   "outputs": [
    {
     "data": {
      "text/plain": [
       "Ttest_indResult(statistic=46.636414352775716, pvalue=0.0)"
      ]
     },
     "execution_count": 139,
     "metadata": {},
     "output_type": "execute_result"
    }
   ],
   "source": [
    "import pandas as pd\n",
    "# import t-test method used for two independent samples\n",
    "from scipy.stats import ttest_ind\n",
    "\n",
    "# HR_data = pd.read_csv('../../data/HR_comma_sep.csv')\n",
    "\n",
    "# perform two-sided t-test for the two samples (left, stayed)\n",
    "ttest_ind(HR_data[HR_data.left == 0].satisfaction_level,  # satisfaction data for stayed\n",
    "          HR_data[HR_data.left == 1].satisfaction_level,  # sastisfaction data for left\n",
    "          equal_var = False)  # do not assume equal variance between samples"
   ]
  },
  {
   "cell_type": "code",
   "execution_count": 140,
   "metadata": {
    "collapsed": false
   },
   "outputs": [
    {
     "data": {
      "text/plain": [
       "0.22671157871810688"
      ]
     },
     "execution_count": 140,
     "metadata": {},
     "output_type": "execute_result"
    }
   ],
   "source": [
    "HR_data[HR_data.left == 0].satisfaction_level.mean() - HR_data[HR_data.left == 1].satisfaction_level.mean()"
   ]
  },
  {
   "cell_type": "markdown",
   "metadata": {},
   "source": [
    "Since the pvalue $\\approx$ 0, then the difference in mean between the two populations was significant and was found to be 0.23.  Note that this needed to be a one sided test!  To do so in python, the computed p-value must be divided by 2, which in this case is still 0."
   ]
  },
  {
   "cell_type": "markdown",
   "metadata": {},
   "source": [
    "#### 3. Fit a normal curve to each group in part 2 and put them on the same plot next to each other.  Comment on your results."
   ]
  },
  {
   "cell_type": "code",
   "execution_count": 147,
   "metadata": {
    "collapsed": false
   },
   "outputs": [
    {
     "data": {
      "image/png": "[encoded data removed]",
      "text/plain": [
       "<matplotlib.figure.Figure at 0x7f1bec0bc908>"
      ]
     },
     "metadata": {},
     "output_type": "display_data"
    }
   ],
   "source": [
    "import numpy as np\n",
    "import matplotlib.pyplot as plt\n",
    "from scipy.stats import norm\n",
    "\n",
    "# get satisfaction means for both left and stayed\n",
    "means = {'no': HR_data[HR_data.left == 0].satisfaction_level.mean(),\n",
    "         'yes': HR_data[HR_data.left == 1].satisfaction_level.mean()}\n",
    "# get satisfaction sample stds for both left and stayed\n",
    "# this requires division by sqrt(n) because it's a sample, not population\n",
    "stds = {'no': HR_data[HR_data.left == 0].satisfaction_level.std()/np.sqrt(len(HR_data[HR_data.left == 0])),\n",
    "        'yes': HR_data[HR_data.left == 1].satisfaction_level.std()/np.sqrt(len(HR_data[HR_data.left == 1]))}\n",
    "\n",
    "normals = {}\n",
    "x = {}\n",
    "# iterate over no/yes for if they left\n",
    "for key in means.keys():\n",
    "    # create and store normal dist based on current mean/std\n",
    "    normals[key] = norm(loc = means[key], scale = stds[key])\n",
    "    # create and store uniformly spaced x-values\n",
    "    x[key] = np.linspace(normals[key].ppf(0.01), normals[key].ppf(0.99), 100)\n",
    "\n",
    "# plot distribution curves for each type: left and stayed\n",
    "# set labels for legend\n",
    "plt.figure(figsize=(10,6))\n",
    "plt.plot(x['yes'], normals['yes'].pdf(x['yes']), label = 'yes')\n",
    "plt.plot(x['no'], normals['no'].pdf(x['no']), label = 'no')\n",
    "plt.title(\"Satisfaction Level\")\n",
    "# show legend\n",
    "plt.legend()\n",
    "plt.show()"
   ]
  },
  {
   "cell_type": "markdown",
   "metadata": {},
   "source": [
    "The plots show that the two populations differ significantly from each other which is consistent with the results of the t-test."
   ]
  },
  {
   "cell_type": "markdown",
   "metadata": {},
   "source": [
    "#### 4. Test the hypothesis that the satisfaction level between each salary group, denoted k, differs signicantly from the mean.  Namely\n",
    "- $H_0: \\mu - \\mu_k = 0$\n",
    "- $H_a: \\mu - \\mu_k \\ne 0$"
   ]
  },
  {
   "cell_type": "code",
   "execution_count": 144,
   "metadata": {
    "collapsed": false
   },
   "outputs": [
    {
     "data": {
      "text/plain": [
       "{'high': Ttest_1sampResult(statistic=3.8205997501861702, pvalue=0.00013974368695866474),\n",
       " 'low': Ttest_1sampResult(statistic=-4.0585381216022212, pvalue=4.9895149767038095e-05),\n",
       " 'medium': Ttest_1sampResult(statistic=2.9429521364929117, pvalue=0.0032625787024487714)}"
      ]
     },
     "execution_count": 144,
     "metadata": {},
     "output_type": "execute_result"
    }
   ],
   "source": [
    "# import one-sample t-test method\n",
    "from scipy.stats import ttest_1samp\n",
    "# compute mean of all satisfaction levels\n",
    "mean_all = HR_data.satisfaction_level.mean()\n",
    "\n",
    "t_group = {}\n",
    "# iterate over salary levels\n",
    "for grp in HR_data.salary.unique():\n",
    "    # perform t-test for current level and store results\n",
    "    t_group[grp] = ttest_1samp(HR_data[HR_data.salary == grp].satisfaction_level, mean_all)\n",
    "t_group"
   ]
  },
  {
   "cell_type": "markdown",
   "metadata": {
    "collapsed": true
   },
   "source": [
    "#### 5. How would you interpret your results in part 5?"
   ]
  },
  {
   "cell_type": "markdown",
   "metadata": {},
   "source": [
    "The t-test indicated that all values differ from the mean signficantly as they all had p-values of less than 0.05.  This means that employees in each salary group, are all a significant distance from the mean."
   ]
  },
  {
   "cell_type": "markdown",
   "metadata": {},
   "source": [
    "#### 6. Generate plots for part 5 as you did in part 3.  What conclusions can you draw from the plot?"
   ]
  },
  {
   "cell_type": "code",
   "execution_count": 146,
   "metadata": {
    "collapsed": false
   },
   "outputs": [
    {
     "data": {
      "image/png": "[encoded data removed]",
      "text/plain": [
       "<matplotlib.figure.Figure at 0x7f1bedd5b2b0>"
      ]
     },
     "metadata": {},
     "output_type": "display_data"
    }
   ],
   "source": [
    "# compute and store satisfaction means for each salary level\n",
    "means = {'high': HR_data[HR_data.salary == 'high'].satisfaction_level.mean(),\n",
    "         'medium': HR_data[HR_data.salary == 'medium'].satisfaction_level.mean(),\n",
    "         'low': HR_data[HR_data.salary == 'low'].satisfaction_level.mean()}\n",
    "# compute and store satisfaction stds for each salary level\n",
    "stds = {'high': HR_data[HR_data.salary == 'high'].satisfaction_level.std()/np.sqrt(len(HR_data[HR_data.salary == 'high'])),\n",
    "        'medium': HR_data[HR_data.salary == 'medium'].satisfaction_level.std()/np.sqrt(len(HR_data[HR_data.salary == 'medium'])),\n",
    "        'low':HR_data[HR_data.salary == 'low'].satisfaction_level.std()/np.sqrt(len(HR_data[HR_data.salary == 'low']))}\n",
    "\n",
    "normals = {}\n",
    "x = {}\n",
    "#iterate over levels\n",
    "for key in means.keys():\n",
    "    # create and store normal distribution for current level\n",
    "    normals[key] = norm(loc = means[key], scale = stds[key])\n",
    "    # create and store uniformly spaced x-values\n",
    "    x[key] = np.linspace(normals[key].ppf(0.01), normals[key].ppf(0.99), 100)\n",
    "    \n",
    "plt.figure(figsize=(10,6))\n",
    "plt.plot(x['high'], normals['high'].pdf(x['high']), label = 'high')\n",
    "plt.plot(x['medium'], normals['medium'].pdf(x['medium']), label = 'medium')\n",
    "plt.plot(x['low'], normals['low'].pdf(x['low']), label = 'low')\n",
    "plt.title(\"Satisfaction Level by Salary Group\")\n",
    "plt.legend()\n",
    "plt.show()"
   ]
  },
  {
   "cell_type": "markdown",
   "metadata": {},
   "source": [
    "It appears that the satisfaction levels of low paid employees are significantly lower than the higher paid, while the medium and high groups overlap slightly."
   ]
  },
  {
   "cell_type": "markdown",
   "metadata": {},
   "source": [
    "#### 8. Recall that Power is the probability of failing to reject the null hypothesis when it is false (thus more power is good).  Compute the power for the hypothesis that the satisfaction level of high paid employees is different than that of medium paid employees using a t distribution."
   ]
  },
  {
   "cell_type": "code",
   "execution_count": 148,
   "metadata": {
    "collapsed": false
   },
   "outputs": [
    {
     "data": {
      "text/plain": [
       "0.77046543921945354"
      ]
     },
     "execution_count": 148,
     "metadata": {},
     "output_type": "execute_result"
    }
   ],
   "source": [
    "# compute high-medium effect size (difference between means)\n",
    "effect_size = (HR_data[HR_data.salary == 'high'].satisfaction_level.mean() \n",
    "               - HR_data[HR_data.salary == 'medium'].satisfaction_level.mean())\n",
    "# divide by std\n",
    "effect_size = effect_size / HR_data.satisfaction_level.std()\n",
    "\n",
    "# compute the high/medium count ratio\n",
    "r = len(HR_data[HR_data.salary == 'high']) / len(HR_data[HR_data.salary == 'medium'])\n",
    "\n",
    "# use statsmodels api to compute the power using the desired alpha\n",
    "sm.TTestIndPower().power(effect_size, len(HR_data[HR_data.left == 0]), alpha = 0.05,\n",
    "                         ratio = r)"
   ]
  },
  {
   "cell_type": "markdown",
   "metadata": {},
   "source": [
    "## Bootstrapping\n",
    "Bootstrapping is an immensely useful technique in practice.  Very often you may find yourself in a situation where you want to compute some statistic, but lack sufficient data to do so.  Bootstrapping works as a remedy to this problem.\n",
    "\n",
    "Recall that the bootstrapping algorithm breaks down as follows:\n",
    "1. Sample n observations with replacement from the observed data resulting in one simulated complete data set. \n",
    "1. Take the statistic of the simulated data set\n",
    "1. Repeat these two steps B times, resulting in B simulated statistics\n",
    "1. These statistics are approximately drawn from the sampling distribution of the statistic of n observations\n",
    "    - this is a lot like what you did when drawing many sample means\n",
    "\n",
    "In this exercise you will implement this algorithm on the HR data.\n",
    "\n",
    "Write a function that can perform boostrapping for the median of a set of n samples in the HR data set.  Test this function on the `satisfaction_level` with `n = 100` and `b = 100` and compare your results to the true median.  Also compute the standard deviation of the bootstrapped median."
   ]
  },
  {
   "cell_type": "code",
   "execution_count": 74,
   "metadata": {
    "collapsed": true
   },
   "outputs": [],
   "source": [
    "import pandas as pd\n",
    "import numpy as np\n",
    "\n",
    "# HR_data = pd.read_csv('../../data/HR_comma_sep.csv')"
   ]
  },
  {
   "cell_type": "code",
   "execution_count": 149,
   "metadata": {
    "collapsed": true
   },
   "outputs": [],
   "source": [
    "def med_bstrap(col, n, b):\n",
    "    \"\"\" Perform bootstrap of the median for a given column of data\n",
    "        \n",
    "        col : a column of data\n",
    "        n : sample size\n",
    "        b : number of bootstrapped samples\n",
    "    \"\"\"\n",
    "    # list to store sample medians\n",
    "    med = []\n",
    "    # iterate through b loops\n",
    "    for i in range(b):\n",
    "        # get random sample with replacement of size n\n",
    "        data_temp = col.sample(n = n, replace = True)\n",
    "        # compute median of sample\n",
    "        med_temp = np.median(data_temp)\n",
    "        # store sample median\n",
    "        med.append(med_temp)\n",
    "    # return the list of sample medians\n",
    "    return(med)"
   ]
  },
  {
   "cell_type": "code",
   "execution_count": 151,
   "metadata": {
    "collapsed": false
   },
   "outputs": [
    {
     "data": {
      "text/plain": [
       "(0.63905000000000001, 0.64000000000000001)"
      ]
     },
     "execution_count": 151,
     "metadata": {},
     "output_type": "execute_result"
    }
   ],
   "source": [
    "# run the function to bootstrap satisfaction level\n",
    "# and compare mean of medians to the data median\n",
    "(np.mean(med_bstrap(HR_data.satisfaction_level, 100, 100)),  # mean of bootstrapped median\n",
    " np.median(HR_data.satisfaction_level))  # data median"
   ]
  },
  {
   "cell_type": "code",
   "execution_count": 152,
   "metadata": {
    "collapsed": false
   },
   "outputs": [
    {
     "data": {
      "text/plain": [
       "0.037974300520220251"
      ]
     },
     "execution_count": 152,
     "metadata": {},
     "output_type": "execute_result"
    }
   ],
   "source": [
    "# compute the std of sample medians\n",
    "np.std(med_bstrap(HR_data.satisfaction_level, 100, 100))"
   ]
  }
 ],
 "metadata": {
  "anaconda-cloud": {},
  "kernelspec": {
   "display_name": "Python [default]",
   "language": "python",
   "name": "python3"
  },
  "language_info": {
   "codemirror_mode": {
    "name": "ipython",
    "version": 3
   },
   "file_extension": ".py",
   "mimetype": "text/x-python",
   "name": "python",
   "nbconvert_exporter": "python",
   "pygments_lexer": "ipython3",
   "version": "3.5.2"
  }
 },
 "nbformat": 4,
 "nbformat_minor": 2
}
